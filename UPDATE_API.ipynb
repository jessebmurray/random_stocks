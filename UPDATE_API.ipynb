{
 "cells": [
  {
   "cell_type": "code",
   "execution_count": 49,
   "metadata": {},
   "outputs": [],
   "source": [
    "from datetime import date\n",
    "date_today = date.today().strftime(\"%Y-%m-%d\")\n",
    "\n",
    "import numpy as np\n",
    "import pandas as pd\n",
    "\n",
    "from alpha_vantage.timeseries import TimeSeries\n",
    "# from alpha_vantage.techindicators import TechIndicators\n",
    "# from matplotlib.pyplot import figure\n",
    "# import matplotlib.pyplot as plt\n",
    "\n",
    "# Your key here\n",
    "key = '0B2RGQVL7RX2DXAA'\n",
    "ts = TimeSeries(key=key, output_format='pandas')\n",
    "\n",
    "data, meta_data = ts.get_intraday(symbol='^GSPC',interval='1min', outputsize='full')\n",
    "\n",
    "# seems to go from 09:31 to 16:00 (inclusive)\n",
    "# data.iloc[380:390,:]\n",
    "\n",
    "data.to_csv('../data/UPDATE_API/' + date_today + '.csv')"
   ]
  }
 ],
 "metadata": {
  "kernelspec": {
   "display_name": "Python 3",
   "language": "python",
   "name": "python3"
  },
  "language_info": {
   "codemirror_mode": {
    "name": "ipython",
    "version": 3
   },
   "file_extension": ".py",
   "mimetype": "text/x-python",
   "name": "python",
   "nbconvert_exporter": "python",
   "pygments_lexer": "ipython3",
   "version": "3.7.4"
  }
 },
 "nbformat": 4,
 "nbformat_minor": 2
}
