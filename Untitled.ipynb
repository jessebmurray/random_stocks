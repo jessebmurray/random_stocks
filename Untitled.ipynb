{
 "cells": [
  {
   "cell_type": "code",
   "execution_count": 164,
   "metadata": {},
   "outputs": [],
   "source": [
    "import pandas as pd\n",
    "import numpy as np\n",
    "import matplotlib.pyplot as plt\n",
    "import seaborn as sns\n",
    "import datetime"
   ]
  },
  {
   "cell_type": "code",
   "execution_count": null,
   "metadata": {},
   "outputs": [],
   "source": []
  },
  {
   "cell_type": "code",
   "execution_count": 165,
   "metadata": {},
   "outputs": [],
   "source": [
    "df = pd.read_csv('../data/DAT_ASCII_SPXUSD_M1_2018.csv', header=None)"
   ]
  },
  {
   "cell_type": "code",
   "execution_count": 166,
   "metadata": {},
   "outputs": [],
   "source": [
    "df = pd.DataFrame(df[0].str.split(';').tolist())"
   ]
  },
  {
   "cell_type": "code",
   "execution_count": 167,
   "metadata": {},
   "outputs": [],
   "source": [
    "df = df.drop(5, axis=1)"
   ]
  },
  {
   "cell_type": "code",
   "execution_count": 168,
   "metadata": {},
   "outputs": [],
   "source": [
    "temp = pd.DataFrame(df[0].str.split().tolist())"
   ]
  },
  {
   "cell_type": "code",
   "execution_count": 169,
   "metadata": {},
   "outputs": [],
   "source": [
    "df = pd.concat([temp, df.iloc[:,1:]], axis=1)"
   ]
  },
  {
   "cell_type": "code",
   "execution_count": 170,
   "metadata": {},
   "outputs": [],
   "source": [
    "df.columns = ['date', 'time', 'open', 'high', 'low', 'close']"
   ]
  },
  {
   "cell_type": "code",
   "execution_count": 171,
   "metadata": {},
   "outputs": [],
   "source": [
    "df.time = df.time.astype('int')"
   ]
  },
  {
   "cell_type": "code",
   "execution_count": 172,
   "metadata": {},
   "outputs": [],
   "source": [
    "df.time = (df.time / 100).astype('int')"
   ]
  },
  {
   "cell_type": "code",
   "execution_count": 173,
   "metadata": {},
   "outputs": [],
   "source": [
    "df = df.loc[(df.time >= 930) & (df.time <= 1600)].reset_index(drop=True)"
   ]
  },
  {
   "cell_type": "code",
   "execution_count": 174,
   "metadata": {},
   "outputs": [],
   "source": [
    "df['year'] = df.date.str[:4].astype('int')"
   ]
  },
  {
   "cell_type": "code",
   "execution_count": 175,
   "metadata": {},
   "outputs": [],
   "source": [
    "df['month'] = df.date.str[4:6].astype('int')"
   ]
  },
  {
   "cell_type": "code",
   "execution_count": 176,
   "metadata": {},
   "outputs": [],
   "source": [
    "df['day'] = df.date.str[6:].astype('int')"
   ]
  },
  {
   "cell_type": "code",
   "execution_count": 177,
   "metadata": {},
   "outputs": [],
   "source": [
    "def get_weekday(row):\n",
    "    return datetime.datetime(row.year, row.month, row.day).weekday()"
   ]
  },
  {
   "cell_type": "code",
   "execution_count": 178,
   "metadata": {},
   "outputs": [],
   "source": [
    "df['weekday'] = df.apply(get_weekday, axis=1)"
   ]
  },
  {
   "cell_type": "code",
   "execution_count": 181,
   "metadata": {},
   "outputs": [],
   "source": [
    "df = df.loc[df.weekday <= 4] # Only monday through Friday"
   ]
  },
  {
   "cell_type": "code",
   "execution_count": 195,
   "metadata": {},
   "outputs": [],
   "source": [
    "holidays2018 = ['20180101', '20180115', '20180219', '20180330', '20180528',\n",
    "'20180703', '20180704', '20180903', '20181122', '20181123',\n",
    "'20181205', '20181224', '20181225']"
   ]
  },
  {
   "cell_type": "code",
   "execution_count": 198,
   "metadata": {},
   "outputs": [],
   "source": [
    "df = df.loc[~df.date.isin(holidays2018)]"
   ]
  },
  {
   "cell_type": "code",
   "execution_count": 202,
   "metadata": {},
   "outputs": [],
   "source": [
    "dates = df.date.unique()"
   ]
  },
  {
   "cell_type": "code",
   "execution_count": null,
   "metadata": {},
   "outputs": [],
   "source": []
  },
  {
   "cell_type": "code",
   "execution_count": 225,
   "metadata": {},
   "outputs": [
    {
     "data": {
      "text/html": [
       "<div>\n",
       "<style scoped>\n",
       "    .dataframe tbody tr th:only-of-type {\n",
       "        vertical-align: middle;\n",
       "    }\n",
       "\n",
       "    .dataframe tbody tr th {\n",
       "        vertical-align: top;\n",
       "    }\n",
       "\n",
       "    .dataframe thead th {\n",
       "        text-align: right;\n",
       "    }\n",
       "</style>\n",
       "<table border=\"1\" class=\"dataframe\">\n",
       "  <thead>\n",
       "    <tr style=\"text-align: right;\">\n",
       "      <th></th>\n",
       "      <th>date</th>\n",
       "      <th>time</th>\n",
       "      <th>open</th>\n",
       "      <th>high</th>\n",
       "      <th>low</th>\n",
       "      <th>close</th>\n",
       "      <th>year</th>\n",
       "      <th>month</th>\n",
       "      <th>day</th>\n",
       "      <th>weekday</th>\n",
       "    </tr>\n",
       "  </thead>\n",
       "  <tbody>\n",
       "    <tr>\n",
       "      <td>321</td>\n",
       "      <td>20180102</td>\n",
       "      <td>1557</td>\n",
       "      <td>2694.380000</td>\n",
       "      <td>2694.380000</td>\n",
       "      <td>2694.000000</td>\n",
       "      <td>2694.000000</td>\n",
       "      <td>2018</td>\n",
       "      <td>1</td>\n",
       "      <td>2</td>\n",
       "      <td>1</td>\n",
       "    </tr>\n",
       "    <tr>\n",
       "      <td>322</td>\n",
       "      <td>20180102</td>\n",
       "      <td>1558</td>\n",
       "      <td>2694.130000</td>\n",
       "      <td>2694.750000</td>\n",
       "      <td>2694.000000</td>\n",
       "      <td>2694.500000</td>\n",
       "      <td>2018</td>\n",
       "      <td>1</td>\n",
       "      <td>2</td>\n",
       "      <td>1</td>\n",
       "    </tr>\n",
       "    <tr>\n",
       "      <td>323</td>\n",
       "      <td>20180102</td>\n",
       "      <td>1559</td>\n",
       "      <td>2694.630000</td>\n",
       "      <td>2695.750000</td>\n",
       "      <td>2694.380000</td>\n",
       "      <td>2695.750000</td>\n",
       "      <td>2018</td>\n",
       "      <td>1</td>\n",
       "      <td>2</td>\n",
       "      <td>1</td>\n",
       "    </tr>\n",
       "    <tr>\n",
       "      <td>324</td>\n",
       "      <td>20180102</td>\n",
       "      <td>1600</td>\n",
       "      <td>2695.250000</td>\n",
       "      <td>2695.630000</td>\n",
       "      <td>2692.750000</td>\n",
       "      <td>2693.250000</td>\n",
       "      <td>2018</td>\n",
       "      <td>1</td>\n",
       "      <td>2</td>\n",
       "      <td>1</td>\n",
       "    </tr>\n",
       "    <tr>\n",
       "      <td>325</td>\n",
       "      <td>20180103</td>\n",
       "      <td>930</td>\n",
       "      <td>2697.130000</td>\n",
       "      <td>2698.500000</td>\n",
       "      <td>2697.130000</td>\n",
       "      <td>2697.750000</td>\n",
       "      <td>2018</td>\n",
       "      <td>1</td>\n",
       "      <td>3</td>\n",
       "      <td>2</td>\n",
       "    </tr>\n",
       "    <tr>\n",
       "      <td>...</td>\n",
       "      <td>...</td>\n",
       "      <td>...</td>\n",
       "      <td>...</td>\n",
       "      <td>...</td>\n",
       "      <td>...</td>\n",
       "      <td>...</td>\n",
       "      <td>...</td>\n",
       "      <td>...</td>\n",
       "      <td>...</td>\n",
       "      <td>...</td>\n",
       "    </tr>\n",
       "    <tr>\n",
       "      <td>97281</td>\n",
       "      <td>20181231</td>\n",
       "      <td>1556</td>\n",
       "      <td>2497.370000</td>\n",
       "      <td>2497.370000</td>\n",
       "      <td>2487.670000</td>\n",
       "      <td>2489.170000</td>\n",
       "      <td>2018</td>\n",
       "      <td>12</td>\n",
       "      <td>31</td>\n",
       "      <td>0</td>\n",
       "    </tr>\n",
       "    <tr>\n",
       "      <td>97282</td>\n",
       "      <td>20181231</td>\n",
       "      <td>1557</td>\n",
       "      <td>2489.170000</td>\n",
       "      <td>2491.670000</td>\n",
       "      <td>2488.870000</td>\n",
       "      <td>2491.370000</td>\n",
       "      <td>2018</td>\n",
       "      <td>12</td>\n",
       "      <td>31</td>\n",
       "      <td>0</td>\n",
       "    </tr>\n",
       "    <tr>\n",
       "      <td>97283</td>\n",
       "      <td>20181231</td>\n",
       "      <td>1558</td>\n",
       "      <td>2491.370000</td>\n",
       "      <td>2492.670000</td>\n",
       "      <td>2491.170000</td>\n",
       "      <td>2492.370000</td>\n",
       "      <td>2018</td>\n",
       "      <td>12</td>\n",
       "      <td>31</td>\n",
       "      <td>0</td>\n",
       "    </tr>\n",
       "    <tr>\n",
       "      <td>97284</td>\n",
       "      <td>20181231</td>\n",
       "      <td>1559</td>\n",
       "      <td>2492.669000</td>\n",
       "      <td>2507.069000</td>\n",
       "      <td>2492.370000</td>\n",
       "      <td>2506.770000</td>\n",
       "      <td>2018</td>\n",
       "      <td>12</td>\n",
       "      <td>31</td>\n",
       "      <td>0</td>\n",
       "    </tr>\n",
       "    <tr>\n",
       "      <td>97285</td>\n",
       "      <td>20181231</td>\n",
       "      <td>1600</td>\n",
       "      <td>2506.770000</td>\n",
       "      <td>2512.070000</td>\n",
       "      <td>2501.270000</td>\n",
       "      <td>2504.569000</td>\n",
       "      <td>2018</td>\n",
       "      <td>12</td>\n",
       "      <td>31</td>\n",
       "      <td>0</td>\n",
       "    </tr>\n",
       "  </tbody>\n",
       "</table>\n",
       "<p>95306 rows × 10 columns</p>\n",
       "</div>"
      ],
      "text/plain": [
       "           date  time         open         high          low        close  \\\n",
       "321    20180102  1557  2694.380000  2694.380000  2694.000000  2694.000000   \n",
       "322    20180102  1558  2694.130000  2694.750000  2694.000000  2694.500000   \n",
       "323    20180102  1559  2694.630000  2695.750000  2694.380000  2695.750000   \n",
       "324    20180102  1600  2695.250000  2695.630000  2692.750000  2693.250000   \n",
       "325    20180103   930  2697.130000  2698.500000  2697.130000  2697.750000   \n",
       "...         ...   ...          ...          ...          ...          ...   \n",
       "97281  20181231  1556  2497.370000  2497.370000  2487.670000  2489.170000   \n",
       "97282  20181231  1557  2489.170000  2491.670000  2488.870000  2491.370000   \n",
       "97283  20181231  1558  2491.370000  2492.670000  2491.170000  2492.370000   \n",
       "97284  20181231  1559  2492.669000  2507.069000  2492.370000  2506.770000   \n",
       "97285  20181231  1600  2506.770000  2512.070000  2501.270000  2504.569000   \n",
       "\n",
       "       year  month  day  weekday  \n",
       "321    2018      1    2        1  \n",
       "322    2018      1    2        1  \n",
       "323    2018      1    2        1  \n",
       "324    2018      1    2        1  \n",
       "325    2018      1    3        2  \n",
       "...     ...    ...  ...      ...  \n",
       "97281  2018     12   31        0  \n",
       "97282  2018     12   31        0  \n",
       "97283  2018     12   31        0  \n",
       "97284  2018     12   31        0  \n",
       "97285  2018     12   31        0  \n",
       "\n",
       "[95306 rows x 10 columns]"
      ]
     },
     "execution_count": 225,
     "metadata": {},
     "output_type": "execute_result"
    }
   ],
   "source": [
    "df.iloc[321:]"
   ]
  },
  {
   "cell_type": "code",
   "execution_count": 233,
   "metadata": {},
   "outputs": [
    {
     "data": {
      "text/plain": [
       "10940    2640.630000\n",
       "10941    2636.380000\n",
       "10942    2642.380000\n",
       "10943    2644.500000\n",
       "10944    2644.250000\n",
       "            ...     \n",
       "11326    2663.000000\n",
       "11327    2662.630000\n",
       "11328    2662.630000\n",
       "11329    2661.880000\n",
       "11330    2661.630000\n",
       "Name: open, Length: 391, dtype: object"
      ]
     },
     "execution_count": 233,
     "metadata": {},
     "output_type": "execute_result"
    }
   ],
   "source": [
    "df.loc[df.date == dates[29]].open"
   ]
  },
  {
   "cell_type": "code",
   "execution_count": 295,
   "metadata": {},
   "outputs": [
    {
     "data": {
      "text/plain": [
       "[<matplotlib.lines.Line2D at 0x17e1f9310>]"
      ]
     },
     "execution_count": 295,
     "metadata": {},
     "output_type": "execute_result"
    },
    {
     "data": {
      "image/png": "[encoded data removed]",
      "text/plain": [
       "<Figure size 432x288 with 1 Axes>"
      ]
     },
     "metadata": {
      "needs_background": "light"
     },
     "output_type": "display_data"
    }
   ],
   "source": [
    "plt.plot(df.loc[df.date == dates[np.random.randint(len(dates))]].open)"
   ]
  },
  {
   "cell_type": "code",
   "execution_count": 248,
   "metadata": {},
   "outputs": [
    {
     "data": {
      "text/html": [
       "<div>\n",
       "<style scoped>\n",
       "    .dataframe tbody tr th:only-of-type {\n",
       "        vertical-align: middle;\n",
       "    }\n",
       "\n",
       "    .dataframe tbody tr th {\n",
       "        vertical-align: top;\n",
       "    }\n",
       "\n",
       "    .dataframe thead th {\n",
       "        text-align: right;\n",
       "    }\n",
       "</style>\n",
       "<table border=\"1\" class=\"dataframe\">\n",
       "  <thead>\n",
       "    <tr style=\"text-align: right;\">\n",
       "      <th></th>\n",
       "      <th>date</th>\n",
       "      <th>time</th>\n",
       "      <th>open</th>\n",
       "      <th>high</th>\n",
       "      <th>low</th>\n",
       "      <th>close</th>\n",
       "      <th>year</th>\n",
       "      <th>month</th>\n",
       "      <th>day</th>\n",
       "      <th>weekday</th>\n",
       "    </tr>\n",
       "  </thead>\n",
       "  <tbody>\n",
       "    <tr>\n",
       "      <td>81380</td>\n",
       "      <td>20181031</td>\n",
       "      <td>930</td>\n",
       "      <td>2711.630000</td>\n",
       "      <td>2712.130000</td>\n",
       "      <td>2709.750000</td>\n",
       "      <td>2710.250000</td>\n",
       "      <td>2018</td>\n",
       "      <td>10</td>\n",
       "      <td>31</td>\n",
       "      <td>2</td>\n",
       "    </tr>\n",
       "    <tr>\n",
       "      <td>81381</td>\n",
       "      <td>20181031</td>\n",
       "      <td>931</td>\n",
       "      <td>2710.500000</td>\n",
       "      <td>2713.000000</td>\n",
       "      <td>2710.000000</td>\n",
       "      <td>2712.630000</td>\n",
       "      <td>2018</td>\n",
       "      <td>10</td>\n",
       "      <td>31</td>\n",
       "      <td>2</td>\n",
       "    </tr>\n",
       "    <tr>\n",
       "      <td>81382</td>\n",
       "      <td>20181031</td>\n",
       "      <td>932</td>\n",
       "      <td>2712.250000</td>\n",
       "      <td>2713.500000</td>\n",
       "      <td>2712.250000</td>\n",
       "      <td>2712.750000</td>\n",
       "      <td>2018</td>\n",
       "      <td>10</td>\n",
       "      <td>31</td>\n",
       "      <td>2</td>\n",
       "    </tr>\n",
       "    <tr>\n",
       "      <td>81383</td>\n",
       "      <td>20181031</td>\n",
       "      <td>933</td>\n",
       "      <td>2712.880000</td>\n",
       "      <td>2713.630000</td>\n",
       "      <td>2709.250000</td>\n",
       "      <td>2709.880000</td>\n",
       "      <td>2018</td>\n",
       "      <td>10</td>\n",
       "      <td>31</td>\n",
       "      <td>2</td>\n",
       "    </tr>\n",
       "    <tr>\n",
       "      <td>81384</td>\n",
       "      <td>20181031</td>\n",
       "      <td>934</td>\n",
       "      <td>2709.750000</td>\n",
       "      <td>2712.250000</td>\n",
       "      <td>2709.750000</td>\n",
       "      <td>2711.750000</td>\n",
       "      <td>2018</td>\n",
       "      <td>10</td>\n",
       "      <td>31</td>\n",
       "      <td>2</td>\n",
       "    </tr>\n",
       "    <tr>\n",
       "      <td>...</td>\n",
       "      <td>...</td>\n",
       "      <td>...</td>\n",
       "      <td>...</td>\n",
       "      <td>...</td>\n",
       "      <td>...</td>\n",
       "      <td>...</td>\n",
       "      <td>...</td>\n",
       "      <td>...</td>\n",
       "      <td>...</td>\n",
       "      <td>...</td>\n",
       "    </tr>\n",
       "    <tr>\n",
       "      <td>81766</td>\n",
       "      <td>20181031</td>\n",
       "      <td>1556</td>\n",
       "      <td>2715.750000</td>\n",
       "      <td>2716.250000</td>\n",
       "      <td>2715.000000</td>\n",
       "      <td>2715.130000</td>\n",
       "      <td>2018</td>\n",
       "      <td>10</td>\n",
       "      <td>31</td>\n",
       "      <td>2</td>\n",
       "    </tr>\n",
       "    <tr>\n",
       "      <td>81767</td>\n",
       "      <td>20181031</td>\n",
       "      <td>1557</td>\n",
       "      <td>2714.750000</td>\n",
       "      <td>2717.000000</td>\n",
       "      <td>2714.750000</td>\n",
       "      <td>2715.750000</td>\n",
       "      <td>2018</td>\n",
       "      <td>10</td>\n",
       "      <td>31</td>\n",
       "      <td>2</td>\n",
       "    </tr>\n",
       "    <tr>\n",
       "      <td>81768</td>\n",
       "      <td>20181031</td>\n",
       "      <td>1558</td>\n",
       "      <td>2715.500000</td>\n",
       "      <td>2716.250000</td>\n",
       "      <td>2713.500000</td>\n",
       "      <td>2713.500000</td>\n",
       "      <td>2018</td>\n",
       "      <td>10</td>\n",
       "      <td>31</td>\n",
       "      <td>2</td>\n",
       "    </tr>\n",
       "    <tr>\n",
       "      <td>81769</td>\n",
       "      <td>20181031</td>\n",
       "      <td>1559</td>\n",
       "      <td>2713.880000</td>\n",
       "      <td>2713.880000</td>\n",
       "      <td>2710.000000</td>\n",
       "      <td>2710.500000</td>\n",
       "      <td>2018</td>\n",
       "      <td>10</td>\n",
       "      <td>31</td>\n",
       "      <td>2</td>\n",
       "    </tr>\n",
       "    <tr>\n",
       "      <td>81770</td>\n",
       "      <td>20181031</td>\n",
       "      <td>1600</td>\n",
       "      <td>2710.750000</td>\n",
       "      <td>2711.500000</td>\n",
       "      <td>2709.750000</td>\n",
       "      <td>2709.750000</td>\n",
       "      <td>2018</td>\n",
       "      <td>10</td>\n",
       "      <td>31</td>\n",
       "      <td>2</td>\n",
       "    </tr>\n",
       "  </tbody>\n",
       "</table>\n",
       "<p>391 rows × 10 columns</p>\n",
       "</div>"
      ],
      "text/plain": [
       "           date  time         open         high          low        close  \\\n",
       "81380  20181031   930  2711.630000  2712.130000  2709.750000  2710.250000   \n",
       "81381  20181031   931  2710.500000  2713.000000  2710.000000  2712.630000   \n",
       "81382  20181031   932  2712.250000  2713.500000  2712.250000  2712.750000   \n",
       "81383  20181031   933  2712.880000  2713.630000  2709.250000  2709.880000   \n",
       "81384  20181031   934  2709.750000  2712.250000  2709.750000  2711.750000   \n",
       "...         ...   ...          ...          ...          ...          ...   \n",
       "81766  20181031  1556  2715.750000  2716.250000  2715.000000  2715.130000   \n",
       "81767  20181031  1557  2714.750000  2717.000000  2714.750000  2715.750000   \n",
       "81768  20181031  1558  2715.500000  2716.250000  2713.500000  2713.500000   \n",
       "81769  20181031  1559  2713.880000  2713.880000  2710.000000  2710.500000   \n",
       "81770  20181031  1600  2710.750000  2711.500000  2709.750000  2709.750000   \n",
       "\n",
       "       year  month  day  weekday  \n",
       "81380  2018     10   31        2  \n",
       "81381  2018     10   31        2  \n",
       "81382  2018     10   31        2  \n",
       "81383  2018     10   31        2  \n",
       "81384  2018     10   31        2  \n",
       "...     ...    ...  ...      ...  \n",
       "81766  2018     10   31        2  \n",
       "81767  2018     10   31        2  \n",
       "81768  2018     10   31        2  \n",
       "81769  2018     10   31        2  \n",
       "81770  2018     10   31        2  \n",
       "\n",
       "[391 rows x 10 columns]"
      ]
     },
     "execution_count": 248,
     "metadata": {},
     "output_type": "execute_result"
    }
   ],
   "source": [
    "df.loc[df.date == dates[209]]"
   ]
  },
  {
   "cell_type": "code",
   "execution_count": null,
   "metadata": {},
   "outputs": [],
   "source": []
  },
  {
   "cell_type": "code",
   "execution_count": null,
   "metadata": {},
   "outputs": [],
   "source": []
  },
  {
   "cell_type": "code",
   "execution_count": null,
   "metadata": {},
   "outputs": [],
   "source": []
  },
  {
   "cell_type": "code",
   "execution_count": null,
   "metadata": {},
   "outputs": [],
   "source": []
  },
  {
   "cell_type": "code",
   "execution_count": null,
   "metadata": {},
   "outputs": [],
   "source": []
  },
  {
   "cell_type": "code",
   "execution_count": null,
   "metadata": {},
   "outputs": [],
   "source": []
  },
  {
   "cell_type": "code",
   "execution_count": null,
   "metadata": {},
   "outputs": [],
   "source": []
  },
  {
   "cell_type": "code",
   "execution_count": null,
   "metadata": {},
   "outputs": [],
   "source": []
  },
  {
   "cell_type": "code",
   "execution_count": null,
   "metadata": {},
   "outputs": [],
   "source": []
  },
  {
   "cell_type": "code",
   "execution_count": null,
   "metadata": {},
   "outputs": [],
   "source": []
  },
  {
   "cell_type": "code",
   "execution_count": null,
   "metadata": {},
   "outputs": [],
   "source": []
  },
  {
   "cell_type": "code",
   "execution_count": null,
   "metadata": {},
   "outputs": [],
   "source": []
  },
  {
   "cell_type": "code",
   "execution_count": null,
   "metadata": {},
   "outputs": [],
   "source": []
  },
  {
   "cell_type": "code",
   "execution_count": null,
   "metadata": {},
   "outputs": [],
   "source": []
  },
  {
   "cell_type": "code",
   "execution_count": null,
   "metadata": {},
   "outputs": [],
   "source": []
  },
  {
   "cell_type": "code",
   "execution_count": null,
   "metadata": {},
   "outputs": [],
   "source": []
  },
  {
   "cell_type": "code",
   "execution_count": null,
   "metadata": {},
   "outputs": [],
   "source": []
  },
  {
   "cell_type": "code",
   "execution_count": null,
   "metadata": {},
   "outputs": [],
   "source": []
  },
  {
   "cell_type": "code",
   "execution_count": null,
   "metadata": {},
   "outputs": [],
   "source": []
  },
  {
   "cell_type": "code",
   "execution_count": null,
   "metadata": {},
   "outputs": [],
   "source": []
  },
  {
   "cell_type": "code",
   "execution_count": null,
   "metadata": {},
   "outputs": [],
   "source": []
  },
  {
   "cell_type": "code",
   "execution_count": null,
   "metadata": {},
   "outputs": [],
   "source": []
  },
  {
   "cell_type": "code",
   "execution_count": null,
   "metadata": {},
   "outputs": [],
   "source": []
  },
  {
   "cell_type": "code",
   "execution_count": null,
   "metadata": {},
   "outputs": [],
   "source": []
  },
  {
   "cell_type": "code",
   "execution_count": null,
   "metadata": {},
   "outputs": [],
   "source": []
  },
  {
   "cell_type": "code",
   "execution_count": null,
   "metadata": {},
   "outputs": [],
   "source": []
  }
 ],
 "metadata": {
  "kernelspec": {
   "display_name": "Python 3",
   "language": "python",
   "name": "python3"
  },
  "language_info": {
   "codemirror_mode": {
    "name": "ipython",
    "version": 3
   },
   "file_extension": ".py",
   "mimetype": "text/x-python",
   "name": "python",
   "nbconvert_exporter": "python",
   "pygments_lexer": "ipython3",
   "version": "3.7.4"
  }
 },
 "nbformat": 4,
 "nbformat_minor": 2
}
